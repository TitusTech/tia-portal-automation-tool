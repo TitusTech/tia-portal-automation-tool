{
 "cells": [
  {
   "cell_type": "code",
   "execution_count": 1,
   "id": "907c0ae1-7659-4e17-b596-68bddaf2c6bd",
   "metadata": {},
   "outputs": [],
   "source": [
    "PID = 26272"
   ]
  },
  {
   "cell_type": "code",
   "execution_count": 2,
   "id": "5c9206d0-9755-4b17-90d4-effe9dcca005",
   "metadata": {},
   "outputs": [],
   "source": [
    "import sys\n",
    "import os\n",
    "\n",
    "# Set project root (assumes this notebook is in ./notebooks)\n",
    "project_root = os.path.abspath(os.path.join(os.getcwd(), '..'))\n",
    "\n",
    "if project_root not in sys.path:\n",
    "    sys.path.insert(0, project_root)\n",
    "from src.core import core\n",
    "\n",
    "dlls = core.generate_dlls(use_contract = True)\n",
    "dll = dlls['V18']\n",
    "contract = dlls['Siemens.Engineering.Contract']\n",
    "\n",
    "import clr  # noqa: E402\n",
    "from System.IO import DirectoryInfo, FileInfo  # noqa: E402\n",
    "\n",
    "clr.AddReference(dll.as_posix())\n",
    "clr.AddReference(contract.as_posix())\n",
    "\n",
    "import Siemens.Engineering as SE  # noqa: E402\n",
    "import src.modules.Portals as Portals\n",
    "\n",
    "\n",
    "imports = Portals.Imports(SE, DirectoryInfo, FileInfo)\n",
    "\n",
    "\n"
   ]
  },
  {
   "cell_type": "code",
   "execution_count": 3,
   "id": "43128271-0857-4fee-8645-c4bee94a3de1",
   "metadata": {},
   "outputs": [],
   "source": [
    "from pathlib import Path, PurePosixPath\n",
    "import json\n"
   ]
  },
  {
   "cell_type": "code",
   "execution_count": 4,
   "id": "a90d86ff-eff4-4f7b-a129-bfb429b030f2",
   "metadata": {},
   "outputs": [
    {
     "name": "stderr",
     "output_type": "stream",
     "text": [
      "[2025-08-18 18:18:20] INFO [src.modules.Portals:36] - Attached TIA Portal Openness (26272) WithUserInterface at 8/18/2025 10:18:20 AM\n"
     ]
    }
   ],
   "source": [
    "settings = {\"enable_ui\": True, \"connection_method\": {'mode': 'attach', \"process_id\": PID}}\n",
    "TIA = Portals.connect(imports, {}, settings)\n"
   ]
  },
  {
   "cell_type": "code",
   "execution_count": 5,
   "id": "977e6793-28c9-42a7-8590-32744b6b6e5f",
   "metadata": {},
   "outputs": [
    {
     "name": "stderr",
     "output_type": "stream",
     "text": [
      "[2025-08-18 18:18:20] DEBUG [src.modules.Devices:44] - Accessing a PlcSoftware from Device Item Rack_0\n",
      "[2025-08-18 18:18:20] DEBUG [src.modules.Devices:51] - No Software Container for Device Item Rack_0\n",
      "[2025-08-18 18:18:20] DEBUG [src.modules.Devices:44] - Accessing a PlcSoftware from Device Item PLC_12\n",
      "[2025-08-18 18:18:20] DEBUG [src.modules.Devices:61] - Found PlcSoftware for Device Item PLC_12\n"
     ]
    },
    {
     "data": {
      "text/plain": [
       "<Siemens.Engineering.SW.PlcSoftware object at 0x000001C74515C600>"
      ]
     },
     "execution_count": 5,
     "metadata": {},
     "output_type": "execute_result"
    }
   ],
   "source": [
    "import src.modules.Devices as Devices\n",
    "device = TIA.Projects[0].Devices[0]\n",
    "plcsoftware = Devices.get_plc_software(imports, device)\n",
    "plcsoftware"
   ]
  },
  {
   "cell_type": "code",
   "execution_count": 7,
   "id": "6f919ca3-5052-4e71-b53a-7e1bc8c346e1",
   "metadata": {},
   "outputs": [
    {
     "name": "stderr",
     "output_type": "stream",
     "text": [
      "[2025-08-18 18:19:31] INFO [root:450] - Import of XML C:\\Users\\john\\AppData\\Local\\Temp\\tmpp6ihqnj2.xml started\n"
     ]
    },
    {
     "ename": "EngineeringTargetInvocationException",
     "evalue": "Error when calling method 'Import' of type 'Siemens.Engineering.SW.Blocks.PlcBlockComposition'.\r\n\r\nCannot create the 'SW.Blocks.CompileUnit' object with Simatic ML ID '12' at line number 165 at line position 5.\r\n\r\nError when calling method 'Create' of type 'Siemens.Engineering.SW.Blocks.CompileUnitComposition'.\r\n\r\nThe program code does not correspond to the scheme: 'The element 'Wires' in namespace 'http://www.siemens.com/automation/Openness/SW/NetworkSource/FlgNet/v4' has incomplete content. List of possible elements expected: 'Wire' in namespace 'http://www.siemens.com/automation/Openness/SW/NetworkSource/FlgNet/v4'.'\r\n   at Siemens.Engineering.Private.Session.Siemens.Engineering.Private.IInstanceSession.InvokeFunc[T,TC](LifetimeContractHandle`1 lifetimeContractHandle, String name, IEnumerable`1 parameters, String fullName)\r\n   at Siemens.Engineering.Private.InternalInstanceAccess`2.InvokeFunc[T](String name, IEnumerable`1 parameters)\r\n   at Siemens.Engineering.SW.Blocks.PlcBlockComposition.Import(FileInfo path, ImportOptions importOptions)",
     "output_type": "error",
     "traceback": [
      "\u001b[31m---------------------------------------------------------------------------\u001b[39m",
      "\u001b[31mEngineeringTargetInvocationException\u001b[39m      Traceback (most recent call last)",
      "\u001b[36mCell\u001b[39m\u001b[36m \u001b[39m\u001b[32mIn[7]\u001b[39m\u001b[32m, line 5\u001b[39m\n\u001b[32m      1\u001b[39m \u001b[38;5;28;01mimport\u001b[39;00m\u001b[38;5;250m \u001b[39m\u001b[34;01msrc\u001b[39;00m\u001b[34;01m.\u001b[39;00m\u001b[34;01mmodules\u001b[39;00m\u001b[34;01m.\u001b[39;00m\u001b[34;01mProgramBlocks\u001b[39;00m\u001b[38;5;250m \u001b[39m\u001b[38;5;28;01mas\u001b[39;00m\u001b[38;5;250m \u001b[39m\u001b[34;01mPlcBlocks\u001b[39;00m\n\u001b[32m      3\u001b[39m filename = Path(\u001b[33m\"\u001b[39m\u001b[33mC:/Users/john/AppData/Local/Temp/tmpp6ihqnj2.xml\u001b[39m\u001b[33m\"\u001b[39m)\n\u001b[32m----> \u001b[39m\u001b[32m5\u001b[39m \u001b[43mPlcBlocks\u001b[49m\u001b[43m.\u001b[49m\u001b[43mimport_xml_to_block_group\u001b[49m\u001b[43m(\u001b[49m\n\u001b[32m      6\u001b[39m \u001b[43m        \u001b[49m\u001b[43mimports\u001b[49m\u001b[43m=\u001b[49m\u001b[43mimports\u001b[49m\u001b[43m,\u001b[49m\n\u001b[32m      7\u001b[39m \u001b[43m        \u001b[49m\u001b[43mplc_software\u001b[49m\u001b[43m=\u001b[49m\u001b[43mplcsoftware\u001b[49m\u001b[43m,\u001b[49m\n\u001b[32m      8\u001b[39m \u001b[43m        \u001b[49m\u001b[43mxml_location\u001b[49m\u001b[43m=\u001b[49m\u001b[43mfilename\u001b[49m\u001b[43m,\u001b[49m\n\u001b[32m      9\u001b[39m \u001b[43m        \u001b[49m\u001b[43mblockgroup_folder\u001b[49m\u001b[43m=\u001b[49m\u001b[43mPurePosixPath\u001b[49m\u001b[43m(\u001b[49m\u001b[33;43m\"\u001b[39;49m\u001b[33;43m/\u001b[39;49m\u001b[33;43m\"\u001b[39;49m\u001b[43m)\u001b[49m\u001b[43m,\u001b[49m\n\u001b[32m     10\u001b[39m \u001b[43m        \u001b[49m\u001b[43mmkdir\u001b[49m\u001b[43m=\u001b[49m\u001b[38;5;28;43;01mTrue\u001b[39;49;00m\u001b[43m)\u001b[49m\n",
      "\u001b[36mFile \u001b[39m\u001b[32m~\\Documents\\TITUS GLOBAL\\tia-portal-automation-tool\\src\\modules\\ProgramBlocks.py:457\u001b[39m, in \u001b[36mimport_xml_to_block_group\u001b[39m\u001b[34m(imports, plc_software, xml_location, blockgroup_folder, mkdir)\u001b[39m\n\u001b[32m    452\u001b[39m xml_dotnet_path: FileInfo = FileInfo(xml_location.absolute().as_posix())\n\u001b[32m    454\u001b[39m blockgroup = locate_blockgroup(\n\u001b[32m    455\u001b[39m     plc_software, blockgroup_folder, mkdir)\n\u001b[32m--> \u001b[39m\u001b[32m457\u001b[39m plcblock: Siemens.Engineering.SW.Blocks.PlcBlock = \u001b[43mblockgroup\u001b[49m\u001b[43m.\u001b[49m\u001b[43mBlocks\u001b[49m\u001b[43m.\u001b[49m\u001b[43mImport\u001b[49m\u001b[43m(\u001b[49m\n\u001b[32m    458\u001b[39m \u001b[43m    \u001b[49m\u001b[43mxml_dotnet_path\u001b[49m\u001b[43m,\u001b[49m\u001b[43m \u001b[49m\u001b[43mSE\u001b[49m\u001b[43m.\u001b[49m\u001b[43mImportOptions\u001b[49m\u001b[43m.\u001b[49m\u001b[43mOverride\u001b[49m\u001b[43m)\u001b[49m\n\u001b[32m    460\u001b[39m logging.info(\u001b[33mf\u001b[39m\u001b[33m\"\u001b[39m\u001b[33mFinished: Import of XML \u001b[39m\u001b[38;5;132;01m{\u001b[39;00mxml_dotnet_path\u001b[38;5;132;01m}\u001b[39;00m\u001b[33m\"\u001b[39m)\n\u001b[32m    462\u001b[39m \u001b[38;5;28;01mreturn\u001b[39;00m plcblock\n",
      "\u001b[31mEngineeringTargetInvocationException\u001b[39m: Error when calling method 'Import' of type 'Siemens.Engineering.SW.Blocks.PlcBlockComposition'.\r\n\r\nCannot create the 'SW.Blocks.CompileUnit' object with Simatic ML ID '12' at line number 165 at line position 5.\r\n\r\nError when calling method 'Create' of type 'Siemens.Engineering.SW.Blocks.CompileUnitComposition'.\r\n\r\nThe program code does not correspond to the scheme: 'The element 'Wires' in namespace 'http://www.siemens.com/automation/Openness/SW/NetworkSource/FlgNet/v4' has incomplete content. List of possible elements expected: 'Wire' in namespace 'http://www.siemens.com/automation/Openness/SW/NetworkSource/FlgNet/v4'.'\r\n   at Siemens.Engineering.Private.Session.Siemens.Engineering.Private.IInstanceSession.InvokeFunc[T,TC](LifetimeContractHandle`1 lifetimeContractHandle, String name, IEnumerable`1 parameters, String fullName)\r\n   at Siemens.Engineering.Private.InternalInstanceAccess`2.InvokeFunc[T](String name, IEnumerable`1 parameters)\r\n   at Siemens.Engineering.SW.Blocks.PlcBlockComposition.Import(FileInfo path, ImportOptions importOptions)"
     ]
    }
   ],
   "source": [
    "import src.modules.ProgramBlocks as PlcBlocks\n",
    "\n",
    "filename = Path(\"C:/Users/john/AppData/Local/Temp/tmpp6ihqnj2.xml\")\n",
    "\n",
    "PlcBlocks.import_xml_to_block_group(\n",
    "        imports=imports,\n",
    "        plc_software=plcsoftware,\n",
    "        xml_location=filename,\n",
    "        blockgroup_folder=PurePosixPath(\"/\"),\n",
    "        mkdir=True)\n"
   ]
  },
  {
   "cell_type": "code",
   "execution_count": null,
   "id": "7abe747b-02ae-49d4-aad2-74a717c7ec2d",
   "metadata": {},
   "outputs": [],
   "source": []
  },
  {
   "cell_type": "code",
   "execution_count": null,
   "id": "bdb84802-6808-4280-89a8-9ac40d0f3dd7",
   "metadata": {},
   "outputs": [],
   "source": []
  }
 ],
 "metadata": {
  "kernelspec": {
   "display_name": "Python 3 (ipykernel)",
   "language": "python",
   "name": "python3"
  },
  "language_info": {
   "codemirror_mode": {
    "name": "ipython",
    "version": 3
   },
   "file_extension": ".py",
   "mimetype": "text/x-python",
   "name": "python",
   "nbconvert_exporter": "python",
   "pygments_lexer": "ipython3",
   "version": "3.13.5"
  }
 },
 "nbformat": 4,
 "nbformat_minor": 5
}
