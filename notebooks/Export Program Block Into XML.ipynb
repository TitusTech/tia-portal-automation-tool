{
 "cells": [
  {
   "cell_type": "code",
   "execution_count": 1,
   "id": "5c9206d0-9755-4b17-90d4-effe9dcca005",
   "metadata": {},
   "outputs": [],
   "source": [
    "import sys\n",
    "import os\n",
    "\n",
    "# Set project root (assumes this notebook is in ./notebooks)\n",
    "project_root = os.path.abspath(os.path.join(os.getcwd(), '..'))\n",
    "\n",
    "if project_root not in sys.path:\n",
    "    sys.path.insert(0, project_root)\n",
    "from src.core import core\n",
    "\n",
    "dlls = core.generate_dlls(use_contract = True)\n",
    "dll = dlls['V18']\n",
    "contract = dlls['Siemens.Engineering.Contract']\n",
    "\n",
    "import clr  # noqa: E402\n",
    "from System.IO import DirectoryInfo, FileInfo  # noqa: E402\n",
    "\n",
    "clr.AddReference(dll.as_posix())\n",
    "clr.AddReference(contract.as_posix())\n",
    "\n",
    "import Siemens.Engineering as SE  # noqa: E402\n",
    "import src.modules.Portals as Portals\n",
    "\n",
    "\n",
    "imports = Portals.Imports(SE, DirectoryInfo, FileInfo)\n",
    "\n",
    "\n"
   ]
  },
  {
   "cell_type": "code",
   "execution_count": 2,
   "id": "43128271-0857-4fee-8645-c4bee94a3de1",
   "metadata": {},
   "outputs": [],
   "source": [
    "from pathlib import Path, PurePosixPath\n",
    "import json\n",
    "\n",
    "from src.schemas import configuration\n",
    "\n",
    "BASE_DIR = Path(\".\").absolute().parent\n",
    "smc = BASE_DIR / \"tests\" / \"configs\" / \"smc.json\"\n",
    "\n",
    "CONFIG = None\n",
    "with open(smc) as file:\n",
    "    CONFIG = configuration.validate(json.load(file))\n"
   ]
  },
  {
   "cell_type": "code",
   "execution_count": 3,
   "id": "907c0ae1-7659-4e17-b596-68bddaf2c6bd",
   "metadata": {},
   "outputs": [],
   "source": [
    "PID = 12848"
   ]
  },
  {
   "cell_type": "code",
   "execution_count": 4,
   "id": "a90d86ff-eff4-4f7b-a129-bfb429b030f2",
   "metadata": {},
   "outputs": [
    {
     "name": "stderr",
     "output_type": "stream",
     "text": [
      "[2025-08-06 10:17:21] INFO [src.modules.Portals:36] - Attached TIA Portal Openness (12848) WithUserInterface at 8/6/2025 2:17:21 AM\n"
     ]
    }
   ],
   "source": [
    "settings = {\"enable_ui\": True, \"connection_method\": {'mode': 'attach', \"process_id\": PID}}\n",
    "TIA = Portals.connect(imports, CONFIG, settings)\n"
   ]
  },
  {
   "cell_type": "code",
   "execution_count": 6,
   "id": "977e6793-28c9-42a7-8590-32744b6b6e5f",
   "metadata": {},
   "outputs": [
    {
     "name": "stderr",
     "output_type": "stream",
     "text": [
      "[2025-08-06 10:17:35] DEBUG [src.modules.Devices:44] - Accessing a PlcSoftware from Device Item Rack_0\n",
      "[2025-08-06 10:17:35] DEBUG [src.modules.Devices:51] - No Software Container for Device Item Rack_0\n",
      "[2025-08-06 10:17:35] DEBUG [src.modules.Devices:44] - Accessing a PlcSoftware from Device Item PLC_1\n",
      "[2025-08-06 10:17:35] DEBUG [src.modules.Devices:61] - Found PlcSoftware for Device Item PLC_1\n"
     ]
    },
    {
     "data": {
      "text/plain": [
       "<Siemens.Engineering.SW.PlcSoftware object at 0x0000018CAC79F640>"
      ]
     },
     "execution_count": 6,
     "metadata": {},
     "output_type": "execute_result"
    }
   ],
   "source": [
    "import src.modules.Devices as Devices\n",
    "device = TIA.Projects[0].Devices[0]\n",
    "plcsoftware = Devices.get_plc_software(imports, device)\n",
    "plcsoftware"
   ]
  },
  {
   "cell_type": "code",
   "execution_count": 7,
   "id": "6f919ca3-5052-4e71-b53a-7e1bc8c346e1",
   "metadata": {},
   "outputs": [],
   "source": [
    "import src.modules.PlcBlocks as PlcBlocks\n",
    "\n",
    "\n",
    "OB = PlcBlocks.find(plcsoftware, PurePosixPath(\"/\"), \"Main\")"
   ]
  },
  {
   "cell_type": "code",
   "execution_count": 8,
   "id": "7abe747b-02ae-49d4-aad2-74a717c7ec2d",
   "metadata": {},
   "outputs": [
    {
     "data": {
      "text/plain": [
       "<Siemens.Engineering.SW.Blocks.OB object at 0x0000018CAC774C80>"
      ]
     },
     "execution_count": 8,
     "metadata": {},
     "output_type": "execute_result"
    }
   ],
   "source": []
  },
  {
   "cell_type": "code",
   "execution_count": null,
   "id": "bdb84802-6808-4280-89a8-9ac40d0f3dd7",
   "metadata": {},
   "outputs": [],
   "source": []
  }
 ],
 "metadata": {
  "kernelspec": {
   "display_name": "Python 3 (ipykernel)",
   "language": "python",
   "name": "python3"
  },
  "language_info": {
   "codemirror_mode": {
    "name": "ipython",
    "version": 3
   },
   "file_extension": ".py",
   "mimetype": "text/x-python",
   "name": "python",
   "nbconvert_exporter": "python",
   "pygments_lexer": "ipython3",
   "version": "3.13.5"
  }
 },
 "nbformat": 4,
 "nbformat_minor": 5
}
